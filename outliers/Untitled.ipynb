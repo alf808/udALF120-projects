{
 "cells": [
  {
   "cell_type": "code",
   "execution_count": 6,
   "metadata": {
    "collapsed": false
   },
   "outputs": [
    {
     "name": "stdout",
     "output_type": "stream",
     "text": [
      "Untitled.ipynb                      outlier_cleaner_alf.pyc\r\n",
      "enron_outliers.py                   outlier_removal_regression.py\r\n",
      "enron_outliers_alf1.py              outlier_removal_regression_alf.py\r\n",
      "outlier_cleaner.py                  outlier_removal_regression_alf2.py\r\n",
      "outlier_cleaner.pyc                 practice_outliers_ages.pkl\r\n",
      "outlier_cleaner_alf.py              practice_outliers_net_worths.pkl\r\n"
     ]
    }
   ],
   "source": [
    "ls"
   ]
  },
  {
   "cell_type": "code",
   "execution_count": 3,
   "metadata": {
    "collapsed": false
   },
   "outputs": [
    {
     "name": "stdout",
     "output_type": "stream",
     "text": [
      "[[ 5.07793064]] [ 25.21002155] 0.489872596175 0.878262470366\n"
     ]
    }
   ],
   "source": [
    "run outlier_removal_regression_alf.py"
   ]
  },
  {
   "cell_type": "code",
   "execution_count": 5,
   "metadata": {
    "collapsed": false
   },
   "outputs": [
    {
     "name": "stdout",
     "output_type": "stream",
     "text": [
      "[[ 5.07793064]] [ 25.21002155] 0.489872596175 0.878262470366\n",
      "[[ 6.36859481]] 0.983189455396\n"
     ]
    }
   ],
   "source": [
    "run outlier_removal_regression_alf2.py"
   ]
  },
  {
   "cell_type": "code",
   "execution_count": 15,
   "metadata": {
    "collapsed": false
   },
   "outputs": [
    {
     "name": "stdout",
     "output_type": "stream",
     "text": [
      "[('SKILLING JEFFREY K', 1111258), ('LAY KENNETH L', 1072321), ('FREVERT MARK A', 1060932), ('PICKERING MARK R', 655037), ('WHALLEY LAWRENCE G', 510364), ('DERRICK JR. JAMES V', 492375), ('FASTOW ANDREW S', 440698), ('SHERRIFF JOHN R', 428780), ('RICE KENNETH D', 420636), ('CAUSEY RICHARD A', 415189), ('KEAN STEVEN J', 404338), ('HAEDICKE MARK E', 374125), ('MCMAHON JEFFREY', 370448), ('METTS MARK', 365788), ('DELAINEY DAVID W', 365163), ('MCCONNELL MICHAEL S', 365038), ('WALLS JR ROBERT H', 357091), ('MARTIN AMANDA K', 349487), ('LAVORATO JOHN J', 339288), ('BUY RICHARD B', 330546)]\n"
     ]
    }
   ],
   "source": [
    "run enron_outliers_alf2.py"
   ]
  },
  {
   "cell_type": "code",
   "execution_count": 20,
   "metadata": {
    "collapsed": false
   },
   "outputs": [],
   "source": [
    "run enron_outliers_alf2.py"
   ]
  },
  {
   "cell_type": "code",
   "execution_count": null,
   "metadata": {
    "collapsed": true
   },
   "outputs": [],
   "source": []
  }
 ],
 "metadata": {
  "kernelspec": {
   "display_name": "Python 2",
   "language": "python",
   "name": "python2"
  },
  "language_info": {
   "codemirror_mode": {
    "name": "ipython",
    "version": 2
   },
   "file_extension": ".py",
   "mimetype": "text/x-python",
   "name": "python",
   "nbconvert_exporter": "python",
   "pygments_lexer": "ipython2",
   "version": "2.7.11"
  }
 },
 "nbformat": 4,
 "nbformat_minor": 0
}
